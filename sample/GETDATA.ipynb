{
 "cells": [
  {
   "cell_type": "code",
   "execution_count": 1,
   "metadata": {
    "collapsed": true
   },
   "outputs": [],
   "source": [
    "import pandas as pd"
   ]
  },
  {
   "cell_type": "code",
   "execution_count": 2,
   "metadata": {
    "collapsed": true
   },
   "outputs": [],
   "source": [
    "#getting NDC data\n",
    "ndc = pd.read_csv('NDC_DRUG_FILE_LIST_UTF8.csv',encoding='utf-8')"
   ]
  },
  {
   "cell_type": "code",
   "execution_count": 3,
   "metadata": {
    "collapsed": true
   },
   "outputs": [],
   "source": [
    "#getting formulary data\n",
    "fd = pd.read_csv('FORMULARY_DATA.csv',encoding='utf-8')"
   ]
  },
  {
   "cell_type": "code",
   "execution_count": 4,
   "metadata": {
    "collapsed": true
   },
   "outputs": [],
   "source": [
    "#setting up a format for the desired output\n",
    "out = \"FORMULARY_ID: %s\\nPRODUCT_NDC: %s\\nPRIOR_AUTHORIZATION: %s\\nTIER_LEVEL_VALUE: %s\\n\""
   ]
  },
  {
   "cell_type": "code",
   "execution_count": 5,
   "metadata": {},
   "outputs": [],
   "source": [
    "ndc_cols = list(ndc.columns.values)"
   ]
  },
  {
   "cell_type": "code",
   "execution_count": 6,
   "metadata": {},
   "outputs": [],
   "source": [
    "fd_cols = list(fd.columns.values)"
   ]
  },
  {
   "cell_type": "code",
   "execution_count": 7,
   "metadata": {},
   "outputs": [],
   "source": [
    "#all of the rows that match lisinopril\n",
    "ndc_found = ndc.loc[ndc['NONPROPRIETARYNAME (GENERIC)'].isin([\"Lisinopril\",\"lisinopril\"]) &\\\n",
    "                    ndc['ACTIVE_NUMERATOR_STRENGTH'].isin(['10'])]"
   ]
  },
  {
   "cell_type": "code",
   "execution_count": 8,
   "metadata": {},
   "outputs": [],
   "source": [
    "#all of the NDC codes, without the dash\n",
    "#notice that they are of varying lengths...\n",
    "ndc_entries = []\n",
    "\n",
    "ndc_clean = ndc['PRODUCTNDC'].apply(lambda s: s.replace(\"-\",\"\"))"
   ]
  },
  {
   "cell_type": "code",
   "execution_count": 9,
   "metadata": {},
   "outputs": [],
   "source": [
    "#all of the formulary data rows that have NDCs that match lisinopril ones\n",
    "#currently doesn't work because of mismatch in format b/w NDCs of the datasets\n",
    "fd['NDC_CLEAN'] = fd['NDC'].apply(lambda s: \"0\"*(11-len(str(s)))+str(s)[1:-2])"
   ]
  },
  {
   "cell_type": "code",
   "execution_count": 10,
   "metadata": {},
   "outputs": [],
   "source": [
    "out_data = fd.loc[fd['NDC'].isin(ndc_clean)]\\\n",
    "[['FORMULARY_ID','NDC','PRIOR_AUTHORIZATION_YN','TIER_LEVEL_VALUE']]"
   ]
  },
  {
   "cell_type": "code",
   "execution_count": 11,
   "metadata": {},
   "outputs": [
    {
     "name": "stdout",
     "output_type": "stream",
     "text": [
      "FORMULARY_ID: 18057\n",
      "PRODUCT_NDC: 69580060\n",
      "PRIOR_AUTHORIZATION: N\n",
      "TIER_LEVEL_VALUE: 4\n",
      "\n",
      "FORMULARY_ID: 18059\n",
      "PRODUCT_NDC: 69580060\n",
      "PRIOR_AUTHORIZATION: N\n",
      "TIER_LEVEL_VALUE: 4\n",
      "\n",
      "FORMULARY_ID: 18061\n",
      "PRODUCT_NDC: 69580060\n",
      "PRIOR_AUTHORIZATION: N\n",
      "TIER_LEVEL_VALUE: 4\n",
      "\n",
      "FORMULARY_ID: 18062\n",
      "PRODUCT_NDC: 69580060\n",
      "PRIOR_AUTHORIZATION: N\n",
      "TIER_LEVEL_VALUE: 4\n",
      "\n",
      "FORMULARY_ID: 18063\n",
      "PRODUCT_NDC: 69580060\n",
      "PRIOR_AUTHORIZATION: N\n",
      "TIER_LEVEL_VALUE: 4\n",
      "\n",
      "FORMULARY_ID: 18065\n",
      "PRODUCT_NDC: 69580060\n",
      "PRIOR_AUTHORIZATION: N\n",
      "TIER_LEVEL_VALUE: 4\n",
      "\n",
      "FORMULARY_ID: 18067\n",
      "PRODUCT_NDC: 69580060\n",
      "PRIOR_AUTHORIZATION: N\n",
      "TIER_LEVEL_VALUE: 3\n",
      "\n",
      "FORMULARY_ID: 18070\n",
      "PRODUCT_NDC: 69580060\n",
      "PRIOR_AUTHORIZATION: N\n",
      "TIER_LEVEL_VALUE: 4\n",
      "\n",
      "FORMULARY_ID: 18101\n",
      "PRODUCT_NDC: 69580060\n",
      "PRIOR_AUTHORIZATION: N\n",
      "TIER_LEVEL_VALUE: 3\n",
      "\n",
      "FORMULARY_ID: 18115\n",
      "PRODUCT_NDC: 69580060\n",
      "PRIOR_AUTHORIZATION: N\n",
      "TIER_LEVEL_VALUE: 3\n",
      "\n",
      "FORMULARY_ID: 18147\n",
      "PRODUCT_NDC: 69580060\n",
      "PRIOR_AUTHORIZATION: N\n",
      "TIER_LEVEL_VALUE: 4\n",
      "\n",
      "FORMULARY_ID: 18150\n",
      "PRODUCT_NDC: 69580060\n",
      "PRIOR_AUTHORIZATION: N\n",
      "TIER_LEVEL_VALUE: 4\n",
      "\n",
      "FORMULARY_ID: 18156\n",
      "PRODUCT_NDC: 69580060\n",
      "PRIOR_AUTHORIZATION: N\n",
      "TIER_LEVEL_VALUE: 4\n",
      "\n",
      "FORMULARY_ID: 18228\n",
      "PRODUCT_NDC: 69580060\n",
      "PRIOR_AUTHORIZATION: N\n",
      "TIER_LEVEL_VALUE: 4\n",
      "\n",
      "FORMULARY_ID: 18252\n",
      "PRODUCT_NDC: 69580060\n",
      "PRIOR_AUTHORIZATION: N\n",
      "TIER_LEVEL_VALUE: 4\n",
      "\n",
      "FORMULARY_ID: 18321\n",
      "PRODUCT_NDC: 69580060\n",
      "PRIOR_AUTHORIZATION: N\n",
      "TIER_LEVEL_VALUE: 4\n",
      "\n",
      "FORMULARY_ID: 18355\n",
      "PRODUCT_NDC: 69580060\n",
      "PRIOR_AUTHORIZATION: N\n",
      "TIER_LEVEL_VALUE: 4\n",
      "\n",
      "FORMULARY_ID: 18359\n",
      "PRODUCT_NDC: 69580060\n",
      "PRIOR_AUTHORIZATION: N\n",
      "TIER_LEVEL_VALUE: 3\n",
      "\n",
      "FORMULARY_ID: 18406\n",
      "PRODUCT_NDC: 69580060\n",
      "PRIOR_AUTHORIZATION: N\n",
      "TIER_LEVEL_VALUE: 4\n",
      "\n",
      "FORMULARY_ID: 18429\n",
      "PRODUCT_NDC: 69580060\n",
      "PRIOR_AUTHORIZATION: N\n",
      "TIER_LEVEL_VALUE: 1\n",
      "\n",
      "FORMULARY_ID: 18430\n",
      "PRODUCT_NDC: 69580060\n",
      "PRIOR_AUTHORIZATION: N\n",
      "TIER_LEVEL_VALUE: 3\n",
      "\n",
      "FORMULARY_ID: 18432\n",
      "PRODUCT_NDC: 69580060\n",
      "PRIOR_AUTHORIZATION: N\n",
      "TIER_LEVEL_VALUE: 4\n",
      "\n",
      "FORMULARY_ID: 18433\n",
      "PRODUCT_NDC: 69580060\n",
      "PRIOR_AUTHORIZATION: N\n",
      "TIER_LEVEL_VALUE: 4\n",
      "\n",
      "FORMULARY_ID: 18434\n",
      "PRODUCT_NDC: 69580060\n",
      "PRIOR_AUTHORIZATION: N\n",
      "TIER_LEVEL_VALUE: 4\n",
      "\n",
      "FORMULARY_ID: 18440\n",
      "PRODUCT_NDC: 69580060\n",
      "PRIOR_AUTHORIZATION: N\n",
      "TIER_LEVEL_VALUE: 4\n",
      "\n",
      "FORMULARY_ID: 18447\n",
      "PRODUCT_NDC: 69580060\n",
      "PRIOR_AUTHORIZATION: N\n",
      "TIER_LEVEL_VALUE: 2\n",
      "\n",
      "FORMULARY_ID: 18448\n",
      "PRODUCT_NDC: 69580060\n",
      "PRIOR_AUTHORIZATION: N\n",
      "TIER_LEVEL_VALUE: 2\n",
      "\n",
      "FORMULARY_ID: 18451\n",
      "PRODUCT_NDC: 69580060\n",
      "PRIOR_AUTHORIZATION: N\n",
      "TIER_LEVEL_VALUE: 2\n",
      "\n",
      "FORMULARY_ID: 18453\n",
      "PRODUCT_NDC: 69580060\n",
      "PRIOR_AUTHORIZATION: N\n",
      "TIER_LEVEL_VALUE: 3\n",
      "\n",
      "FORMULARY_ID: 18454\n",
      "PRODUCT_NDC: 69580060\n",
      "PRIOR_AUTHORIZATION: N\n",
      "TIER_LEVEL_VALUE: 1\n",
      "\n",
      "FORMULARY_ID: 18457\n",
      "PRODUCT_NDC: 69580060\n",
      "PRIOR_AUTHORIZATION: N\n",
      "TIER_LEVEL_VALUE: 2\n",
      "\n",
      "FORMULARY_ID: 18462\n",
      "PRODUCT_NDC: 69580060\n",
      "PRIOR_AUTHORIZATION: N\n",
      "TIER_LEVEL_VALUE: 3\n",
      "\n",
      "FORMULARY_ID: 18485\n",
      "PRODUCT_NDC: 69580060\n",
      "PRIOR_AUTHORIZATION: N\n",
      "TIER_LEVEL_VALUE: 4\n",
      "\n",
      "FORMULARY_ID: 18493\n",
      "PRODUCT_NDC: 69580060\n",
      "PRIOR_AUTHORIZATION: N\n",
      "TIER_LEVEL_VALUE: 4\n",
      "\n",
      "FORMULARY_ID: 18500\n",
      "PRODUCT_NDC: 69580060\n",
      "PRIOR_AUTHORIZATION: N\n",
      "TIER_LEVEL_VALUE: 4\n",
      "\n"
     ]
    }
   ],
   "source": [
    "for i,entry in out_data.iterrows():\n",
    "    print(out % tuple([entry[x] for x in list(out_data.columns.values)]))"
   ]
  },
  {
   "cell_type": "code",
   "execution_count": null,
   "metadata": {
    "collapsed": true
   },
   "outputs": [],
   "source": []
  }
 ],
 "metadata": {
  "kernelspec": {
   "display_name": "Python 3",
   "language": "python",
   "name": "python3"
  },
  "language_info": {
   "codemirror_mode": {
    "name": "ipython",
    "version": 3
   },
   "file_extension": ".py",
   "mimetype": "text/x-python",
   "name": "python",
   "nbconvert_exporter": "python",
   "pygments_lexer": "ipython3",
   "version": "3.6.4"
  }
 },
 "nbformat": 4,
 "nbformat_minor": 2
}
